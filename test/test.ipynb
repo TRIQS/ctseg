{
 "cells": [
  {
   "cell_type": "code",
   "execution_count": 19,
   "metadata": {},
   "outputs": [],
   "source": [
    "import numpy as np\n",
    "import matplotlib.pyplot as plt\n",
    "from triqs.gf import *\n",
    "import triqs.utility.mpi as mpi\n",
    "from triqs.gf.descriptors import Function\n",
    "from triqs.operators import *\n",
    "from triqs.plot.mpl_interface import oplot\n",
    "import h5\n",
    "%config InlineBackend.figure_format = 'retina'\n",
    "\n",
    "NEW_PATH = \"/mnt/home/nkavokine/ctseg_J/build/python/triqs_ctseg/__init__.py\"\n",
    "OLD_PATH = \"/mnt/home/nkavokine/ctseg_OLD/build/python/triqs_ctseg/__init__.py\"\n",
    "\n",
    "import importlib\n",
    "import sys\n",
    "spec_new = importlib.util.spec_from_file_location(\"triqs_ctseg_J\", NEW_PATH)\n",
    "ctseg_new = importlib.util.module_from_spec(spec_new)\n",
    "sys.modules[spec_new.name] = ctseg_new \n",
    "spec_new.loader.exec_module(ctseg_new)\n",
    "spec = importlib.util.spec_from_file_location(\"triqs_ctseg\", OLD_PATH)\n",
    "ctseg_old = importlib.util.module_from_spec(spec)\n",
    "sys.modules[spec.name] = ctseg_old \n",
    "spec.loader.exec_module(ctseg_old)\n"
   ]
  },
  {
   "cell_type": "markdown",
   "metadata": {},
   "source": [
    "Parameters"
   ]
  },
  {
   "cell_type": "code",
   "execution_count": 20,
   "metadata": {},
   "outputs": [
    {
     "data": {
      "text/plain": [
       "Greens Function  with mesh Matsubara Freq Mesh of size 20000, Domain: Matsubara domain with beta = 20, statistic = 1, positive_only : 0 and target_rank 2: "
      ]
     },
     "execution_count": 20,
     "metadata": {},
     "output_type": "execute_result"
    }
   ],
   "source": [
    "beta = 20\n",
    "U    = 2.0\n",
    "#mu   = 0.0\n",
    "mu = U/2\n",
    "epsilon = 0.3\n",
    "l = 1.0  #electron boson coupling\n",
    "w0 = 1.0 #screening frequency\n",
    "n_tau = 20001\n",
    "n_iw = 10000\n",
    "random_seed = 23488\n",
    "length_cycle = 50\n",
    "n_warmup_cycles = 1000\n",
    "n_cycles = 500000\n",
    "measure_gt = True\n",
    "measure_n = True\n",
    "move_move = True\n",
    "\n",
    "has_Dt = False\n",
    "\n",
    "# Local Hamiltonian\n",
    "H = U*n(\"up\",0)*n(\"down\",0)\n",
    "\n",
    "# Hybridization \n",
    "delta = GfImFreq(indices=[0], beta=beta, n_points = n_iw) \n",
    "delta << inverse(iOmega_n - epsilon) #+ inverse(iOmega_n + epsilon)"
   ]
  },
  {
   "cell_type": "markdown",
   "metadata": {},
   "source": [
    "Setup new solver"
   ]
  },
  {
   "cell_type": "code",
   "execution_count": 21,
   "metadata": {},
   "outputs": [],
   "source": [
    "# Parameters\n",
    "p = {}\n",
    "p[\"random_seed\"] = random_seed\n",
    "p[\"length_cycle\"] = length_cycle\n",
    "p[\"n_warmup_cycles\"] = n_warmup_cycles\n",
    "p[\"n_cycles\"] = n_cycles\n",
    "p[\"measure_gt\"] = measure_gt\n",
    "p[\"measure_n\"] = measure_n\n",
    "p[\"move_insert_segment_v2\"] = False\n",
    "p[\"move_remove_segment_v2\"] = False\n",
    "p[\"move_split_segment_v2\"] = False\n",
    "p[\"move_regroup_segment_v2\"] = False\n",
    "p[\"move_insert_segment\"] = True\n",
    "p[\"move_remove_segment\"] = True\n",
    "p[\"move_split_segment\"] = True\n",
    "p[\"move_regroup_segment\"] = True\n",
    "p[\"move_move_segment\"] = move_move\n",
    "p[\"hartree_shift\"] = [mu,mu]\n",
    "\n",
    "# Solver! \n",
    "Snew = ctseg_new.SolverCore(beta = beta,\n",
    "           gf_struct= [['down',1], ['up',1]],\n",
    "           n_tau = n_tau,\n",
    "           n_tau_k = n_tau,\n",
    "           )\n",
    "\n",
    "\n",
    "Snew.Delta_tau << Fourier(delta); \n",
    "\n",
    "if has_Dt:\n",
    "    D0w = GfImFreq(indices=[0], beta=beta, statistic = 'Boson', n_points = n_iw)\n",
    "    D0w << Function(lambda w: l**2*2*w0/(w**2-w0**2))\n",
    "    Snew.D0_tau << Fourier(D0w)\n"
   ]
  },
  {
   "cell_type": "code",
   "execution_count": 22,
   "metadata": {},
   "outputs": [
    {
     "name": "stdout",
     "output_type": "stream",
     "text": [
      "\n",
      "╔╦╗╦═╗╦╔═╗ ╔═╗  ┌─┐┌┬┐┌─┐┌─┐┌─┐\n",
      " ║ ╠╦╝║║═╬╗╚═╗  │   │ └─┐├┤ │ ┬\n",
      " ╩ ╩╚═╩╚═╝╚╚═╝  └─┘ ┴ └─┘└─┘└─┘\n",
      "mu = [1,1]\n",
      " U = \n",
      "[[0,2]\n",
      " [2,0]]\n",
      "dynamical_U = false\n",
      " jperp_interactions = false\n",
      " \n",
      "\n",
      "Warming up ...\n",
      "\n",
      "\n",
      "\n",
      "Accumulating ...\n",
      "00:34:36   0% ETA 00:00:21 cycle 2298 of 500000\n",
      "00:34:38  12% ETA 00:00:15 cycle 60670 of 500000\n",
      "00:34:40  27% ETA 00:00:12 cycle 135642 of 500000\n",
      "00:34:43  45% ETA 00:00:09 cycle 229357 of 500000\n",
      "00:34:47  69% ETA 00:00:05 cycle 346671 of 500000\n",
      "00:34:52  98% ETA 00:00:00 cycle 492551 of 500000\n",
      "\n",
      "\n",
      "[Rank 0] Collect results: Waiting for all mpi-threads to finish accumulating...\n",
      "Density [0.543992,0.544418]\n",
      "[Rank 0] Timings for all measures:\n",
      "Measure             | seconds   \n",
      "Density measurement | 0.050382  \n",
      "G(tau) measurement  | 0.896563  \n",
      "Total measure time  | 0.946945  \n",
      "[Rank 0] Acceptance rate for all moves:\n",
      "Move  insert: 0.380693\n",
      "Move  remove: 0.380839\n",
      "Move  move: 0.202689\n",
      "Move  split: 0.408271\n",
      "Move  regroup: 0.408403\n",
      "[Rank 0] Warmup lasted: 0.0546397 seconds [00:00:00]\n",
      "[Rank 0] Simulation lasted: 16.9706 seconds [00:00:16]\n",
      "[Rank 0] Number of measures: 500000\n",
      "Total number of measures: 500000\n"
     ]
    }
   ],
   "source": [
    "Snew.solve(h_int=H, **p)"
   ]
  },
  {
   "cell_type": "markdown",
   "metadata": {},
   "source": [
    "Setup old solver"
   ]
  },
  {
   "cell_type": "code",
   "execution_count": 23,
   "metadata": {},
   "outputs": [],
   "source": [
    "# Parameters\n",
    "p = {}\n",
    "p[\"random_seed\"] = random_seed\n",
    "p[\"length_cycle\"] = length_cycle\n",
    "p[\"n_warmup_cycles\"] = n_warmup_cycles\n",
    "p[\"n_cycles\"] = n_cycles\n",
    "p[\"measure_gt\"] = measure_gt\n",
    "p[\"move_insert_segment\"] = True\n",
    "p[\"move_remove_segment\"] = True\n",
    "p[\"move_move\"] = move_move\n",
    "p[\"hartree_shift\"] = [0,0]\n",
    "\n",
    "gf_struct= [(\"up\",1), (\"down\",1)]\n",
    "\n",
    "# Solver! \n",
    "Sold = ctseg_old.SolverCore(beta = beta,\n",
    "           gf_struct= gf_struct,\n",
    "           n_tau = n_tau,\n",
    "           n_tau_k = n_tau,\n",
    "           n_iw = n_iw\n",
    "           )\n",
    "\n",
    "Sold.G0_iw << inverse(iOmega_n + mu - delta); \n",
    "\n",
    "if has_Dt:\n",
    "    for b1 in dict(gf_struct).keys():\n",
    "        for b2 in dict(gf_struct).keys():\n",
    "            Sold.D0_iw[b1+\"|\"+b2] << Function(lambda w: l**2*2*w0/(w**2-w0**2))"
   ]
  },
  {
   "cell_type": "code",
   "execution_count": 24,
   "metadata": {},
   "outputs": [
    {
     "name": "stdout",
     "output_type": "stream",
     "text": [
      "\n",
      "╔╦╗╦═╗╦╔═╗ ╔═╗  ┌─┐┌┬┐┌─┐┌─┐┌─┐\n",
      " ║ ╠╦╝║║═╬╗╚═╗  │   │ └─┐├┤ │ ┬\n",
      " ╩ ╩╚═╩╚═╝╚╚═╝  └─┘ ┴ └─┘└─┘└─┘\n",
      "mu = [1,1]\n",
      "U = \n",
      "[[0,2]\n",
      " [2,0]]\n",
      "\n",
      "\n",
      "Warming up ...\n",
      "\n",
      "\n",
      "\n",
      "Accumulating ...\n",
      "00:34:53   0% ETA 00:00:29 cycle 1689 of 500000\n",
      "00:34:55   7% ETA 00:00:27 cycle 35832 of 500000\n",
      "00:34:58  15% ETA 00:00:24 cycle 78546 of 500000\n",
      "00:35:01  26% ETA 00:00:21 cycle 132110 of 500000\n",
      "00:35:05  39% ETA 00:00:17 cycle 198919 of 500000\n",
      "00:35:10  56% ETA 00:00:12 cycle 282665 of 500000\n",
      "00:35:16  77% ETA 00:00:06 cycle 387367 of 500000\n",
      "\n",
      "\n",
      "[Rank 0] Collect results: Waiting for all mpi-threads to finish accumulating...\n",
      "[Rank 0] Timings for all measures:\n",
      "Measure                    | seconds   \n",
      "G(tau) measurement         | 1.11712   \n",
      "measurement of the MC sign | 0.0216479 \n",
      "Total measure time         | 1.13877   \n",
      "[Rank 0] Acceptance rate for all moves:\n",
      "Move  segment insertion: 0.607261\n",
      "Move  segment removal: 0.607474\n",
      "Move  segment move to another line: 0.108169\n",
      "[Rank 0] Warmup lasted: 0.0598328 seconds [00:00:00]\n",
      "[Rank 0] Simulation lasted: 29.5564 seconds [00:00:29]\n",
      "[Rank 0] Number of measures: 500000\n",
      "Total number of measures: 500000\n"
     ]
    }
   ],
   "source": [
    "Sold.solve(h_int=H, **p)"
   ]
  },
  {
   "cell_type": "code",
   "execution_count": 25,
   "metadata": {},
   "outputs": [
    {
     "name": "stdout",
     "output_type": "stream",
     "text": [
      "Density (new) :  [0.54399211 0.54441822]\n"
     ]
    },
    {
     "data": {
      "image/png": "[encoded data removed]",
      "text/plain": [
       "<Figure size 432x288 with 1 Axes>"
      ]
     },
     "metadata": {
      "needs_background": "light"
     },
     "output_type": "display_data"
    },
    {
     "data": {
      "image/png": "[encoded data removed]",
      "text/plain": [
       "<Figure size 432x288 with 1 Axes>"
      ]
     },
     "metadata": {
      "needs_background": "light"
     },
     "output_type": "display_data"
    }
   ],
   "source": [
    "# Non-interacting GF\n",
    "G0tau = GfImTime(indices=[0], beta=beta, n_points = n_tau) \n",
    "G0w = GfImFreq(indices=[0], beta=beta, n_points = n_iw) \n",
    "G0w << inverse(iOmega_n + mu - delta)\n",
    "G0tau << Fourier(G0w)\n",
    "\n",
    "# Results\n",
    "Gnew = 0.5*(Snew.results.G_tau['up'].real + Snew.results.G_tau['down'].real)\n",
    "Gold = 0.5*(Sold.G_tau['up'].real + Sold.G_tau['down'].real)\n",
    "\n",
    "fig, ax = plt.subplots()\n",
    "oplot(Gold,'o-',label = \"Old code\")\n",
    "oplot(Gnew,label = \"New code\")\n",
    "#oplot(G0tau.real,'-x',label = \"G0\")\n",
    "\n",
    "fig, ax = plt.subplots()\n",
    "oplot(Gold - Gnew,label = \"New code - Old code\")\n",
    "\n",
    "print(\"Density (new) : \", Snew.results.densities)"
   ]
  }
 ],
 "metadata": {
  "kernelspec": {
   "display_name": "ctseg",
   "language": "python",
   "name": "ctseg"
  },
  "language_info": {
   "codemirror_mode": {
    "name": "ipython",
    "version": 3
   },
   "file_extension": ".py",
   "mimetype": "text/x-python",
   "name": "python",
   "nbconvert_exporter": "python",
   "pygments_lexer": "ipython3",
   "version": "3.9.9"
  },
  "orig_nbformat": 4
 },
 "nbformat": 4,
 "nbformat_minor": 2
}
